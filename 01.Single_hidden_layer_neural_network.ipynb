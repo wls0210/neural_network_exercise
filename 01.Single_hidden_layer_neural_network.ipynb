{
 "cells": [
  {
   "cell_type": "code",
   "execution_count": 18,
   "metadata": {},
   "outputs": [
    {
     "name": "stderr",
     "output_type": "stream",
     "text": [
      "WARNING: Logging before flag parsing goes to stderr.\n",
      "W0702 20:13:01.026596  7968 deprecation.py:323] From <ipython-input-18-1ca1328b361b>:28: softmax_cross_entropy_with_logits (from tensorflow.python.ops.nn_ops) is deprecated and will be removed in a future version.\n",
      "Instructions for updating:\n",
      "\n",
      "Future major versions of TensorFlow will allow gradients to flow\n",
      "into the labels input on backprop by default.\n",
      "\n",
      "See `tf.nn.softmax_cross_entropy_with_logits_v2`.\n",
      "\n"
     ]
    },
    {
     "name": "stdout",
     "output_type": "stream",
     "text": [
      "9 0.9309694\n",
      "19 0.69531393\n",
      "29 0.53813267\n",
      "39 0.42688593\n",
      "49 0.34443656\n",
      "59 0.28516862\n",
      "69 0.24051356\n",
      "79 0.20617841\n",
      "89 0.17916556\n",
      "99 0.15730645\n",
      "[0 1 2 0 0 2]\n",
      "[0 1 2 0 0 2]\n"
     ]
    }
   ],
   "source": [
    "import tensorflow as tf\n",
    "import numpy as np\n",
    "\n",
    "x_data = np.array(\n",
    "            [[0, 0], [1, 0], [1, 1], [0, 0], [0, 0], [0, 1]])\n",
    "y_data = np.array([\n",
    "            [1, 0, 0],\n",
    "            [0, 1, 0],\n",
    "            [0, 0, 1],\n",
    "            [1, 0, 0],\n",
    "            [1, 0, 0],\n",
    "            [0, 0, 1]])\n",
    "\n",
    "X = tf.placeholder(tf.float32)\n",
    "Y = tf.placeholder(tf.float32)\n",
    "\n",
    "W1 = tf.Variable(tf.random_uniform([2, 10], -1., 1.))\n",
    "b1 = tf.Variable(tf.zeros([10]))\n",
    "\n",
    "L1 = tf.add(tf.matmul(X, W1), b1)\n",
    "L1 = tf.nn.relu(L1)\n",
    "\n",
    "W2 = tf.Variable(tf.random_uniform([10, 3], -1., 1.))\n",
    "b2 = tf.Variable(tf.zeros([3]))\n",
    "\n",
    "model = tf.add(tf.matmul(L1, W2), b2)\n",
    "\n",
    "cost = tf.reduce_mean(tf.nn.softmax_cross_entropy_with_logits(labels=Y, logits=model))\n",
    "\n",
    "optimizer = tf.train.AdamOptimizer(learning_rate = 0.01)\n",
    "train_op = optimizer.minimize(cost)\n",
    "\n",
    "init = tf.global_variables_initializer()\n",
    "sess = tf.Session()\n",
    "sess.run(init)\n",
    "\n",
    "for step in range(100):\n",
    "    sess.run(train_op, feed_dict = {X:x_data, Y:y_data})\n",
    "    \n",
    "    if (step+1) % 10 == 0:\n",
    "        print(step, sess.run(cost, feed_dict = {X:x_data, Y:y_data}))\n",
    "        \n",
    "prediction = tf.argmax(model, axis = 1)\n",
    "target = tf.argmax(Y, axis = 1)\n",
    "\n",
    "print(sess.run(prediction, feed_dict = {X:x_data}))\n",
    "print(sess.run(target, feed_dict = {Y:y_data}))\n"
   ]
  },
  {
   "cell_type": "code",
   "execution_count": null,
   "metadata": {},
   "outputs": [],
   "source": []
  }
 ],
 "metadata": {
  "kernelspec": {
   "display_name": "Python 3",
   "language": "python",
   "name": "python3"
  },
  "language_info": {
   "codemirror_mode": {
    "name": "ipython",
    "version": 3
   },
   "file_extension": ".py",
   "mimetype": "text/x-python",
   "name": "python",
   "nbconvert_exporter": "python",
   "pygments_lexer": "ipython3",
   "version": "3.6.8"
  }
 },
 "nbformat": 4,
 "nbformat_minor": 2
}
